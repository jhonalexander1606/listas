{
  "nbformat": 4,
  "nbformat_minor": 0,
  "metadata": {
    "colab": {
      "provenance": [],
      "authorship_tag": "ABX9TyNoEQe3dmXOommc1yF58+pX",
      "include_colab_link": true
    },
    "kernelspec": {
      "name": "python3",
      "display_name": "Python 3"
    },
    "language_info": {
      "name": "python"
    }
  },
  "cells": [
    {
      "cell_type": "markdown",
      "metadata": {
        "id": "view-in-github",
        "colab_type": "text"
      },
      "source": [
        "<a href=\"https://colab.research.google.com/github/jhonalexander1606/listas/blob/main/listas.ipynb\" target=\"_parent\"><img src=\"https://colab.research.google.com/assets/colab-badge.svg\" alt=\"Open In Colab\"/></a>"
      ]
    },
    {
      "cell_type": "markdown",
      "source": [
        "# Listas"
      ],
      "metadata": {
        "id": "9Q1qbb8aXTG6"
      }
    },
    {
      "cell_type": "markdown",
      "source": [
        "\n",
        "\n",
        "*   son colecciones ordenadas de datos los cuales pueden ser de cualquier tipo.\n",
        "*   las listas son mutables\n",
        "*   las lista se agrupan adentro de corchetes [ ].\n",
        "*   los elementos de una lista se separan con comas.\n",
        "\n",
        "\n",
        "\n"
      ],
      "metadata": {
        "id": "5bpCb5-QXjs-"
      }
    },
    {
      "cell_type": "code",
      "source": [
        "#cracion de listas usando el constructor list() sin parametros \n",
        "lista_3 = list()\n",
        "print(lista_3)\n",
        "\n",
        "lista_4 = list(range(10))\n",
        "print(lista_4)\n",
        "\n",
        "lista_5 = list(\"UIS Socorro\")\n",
        "print(lista_5)\n",
        "\n",
        "frase = \"UIS no es uno, somos todos. Somos todos los que estamos en la lucha\"\n",
        "lista_6 = frase.split()\n",
        "print(lista_6)"
      ],
      "metadata": {
        "colab": {
          "base_uri": "https://localhost:8080/"
        },
        "id": "4P1NWlMNYMxY",
        "outputId": "2c6719e6-231a-4520-8141-20af0e8b8c63"
      },
      "execution_count": null,
      "outputs": [
        {
          "output_type": "stream",
          "name": "stdout",
          "text": [
            "[]\n",
            "[0, 1, 2, 3, 4, 5, 6, 7, 8, 9]\n",
            "['U', 'I', 'S', ' ', 'S', 'o', 'c', 'o', 'r', 'r', 'o']\n",
            "['UIS no es uno', ' somos todos. Somos todos los que estamos en la lucha']\n"
          ]
        }
      ]
    },
    {
      "cell_type": "code",
      "source": [
        "#funciones asociadas a las listas\n",
        "\n",
        "dias_laborables = [\"lunes\", \"martes\", \"miercoles\", \"jueves\", \"viernes\"]\n",
        "colores_primarios = ['rojo', 'verde', 'azul']\n",
        "pares = list(range(0,30,2))\n",
        "print(pares)\n",
        "\n",
        "#contador de elementos de la lista\n",
        "\n",
        "print(dias_laborables)\n",
        "dias_laborables.append('sabado')\n",
        "print(dias_laborables)\n",
        "print(f\"El lunes aparece {dias_laborables.count('lunes')} veces \")\n",
        "\n",
        "#agregar un elemento al principio de la lista\n",
        "colores_primarios.insert(0, 'blanco')\n",
        "print(colores_primarios)\n",
        "\n",
        "#quitar un elemento de una lista\n",
        "\n",
        "dias_laborables.remove(\"sabado\")\n",
        "print(dias_laborables)"
      ],
      "metadata": {
        "colab": {
          "base_uri": "https://localhost:8080/"
        },
        "id": "lSPl-0Xfde6M",
        "outputId": "c71b9f93-a669-4edf-a3e0-721cb544b3fb"
      },
      "execution_count": null,
      "outputs": [
        {
          "output_type": "stream",
          "name": "stdout",
          "text": [
            "[0, 2, 4, 6, 8, 10, 12, 14, 16, 18, 20, 22, 24, 26, 28]\n",
            "['lunes', 'martes', 'miercoles', 'jueves', 'viernes']\n",
            "['lunes', 'martes', 'miercoles', 'jueves', 'viernes', 'sabado']\n",
            "El lunes aparece 1 veces \n",
            "['blanco', 'rojo', 'verde', 'azul']\n",
            "['lunes', 'martes', 'miercoles', 'jueves', 'viernes']\n"
          ]
        }
      ]
    },
    {
      "cell_type": "markdown",
      "source": [
        "# Tuplas"
      ],
      "metadata": {
        "id": "SBMDkDoggo4A"
      }
    },
    {
      "cell_type": "markdown",
      "source": [
        "conjunto ordenado e inmutable de elementos. No es posuble añadir, modifica o eliminar elementos. Se encierran entre parentesis y sus elementos se separan por comas"
      ],
      "metadata": {
        "id": "sxkzCeOPgw7e"
      }
    },
    {
      "cell_type": "code",
      "source": [
        "#tuplas\n",
        "\n",
        "tupla =(\"casa\", \"2\", 345, \"perro\", 99)\n",
        "\n",
        "print(\"Elementos de la tupla :\", tupla)\n",
        "print(\"nuimero de elementos 99 :\", tupla.count(99))\n",
        "\n"
      ],
      "metadata": {
        "colab": {
          "base_uri": "https://localhost:8080/"
        },
        "id": "LL40mfFWg-3J",
        "outputId": "7d901dd1-74a3-4b7b-a8d2-6953312e92da"
      },
      "execution_count": null,
      "outputs": [
        {
          "output_type": "stream",
          "name": "stdout",
          "text": [
            "Elementos de la tupla : ('casa', '2', 345, 'perro', 99)\n",
            "nuimero de elementos 99 : 1\n"
          ]
        }
      ]
    },
    {
      "cell_type": "code",
      "source": [
        "#usando funciones escriba un programa que reciva una lista y que devuelva como resultado una tupla almacenando el primer y el ultimo elemento de la lista\n",
        "#en caso de que la lista no tenga dos o mas elementos debe indicarlo\n",
        "import random\n",
        "from random import randint\n",
        "\n",
        "ne = 0\n",
        "\n",
        "while ne <= 1 :\n",
        "  ne = int(input(\"numero de elementos: \"))\n",
        "  li = list(random.randint(0,100) for i in range(ne))\n",
        "  lista = len(li)\n",
        "  if lista >= 2:\n",
        "    tupla = tuple((li))\n",
        "    \n",
        "\n",
        "  else:\n",
        "    print(\"La lista no tiene más de dos elementos\")     \n",
        "print(li)\n",
        "print(tupla)"
      ],
      "metadata": {
        "colab": {
          "base_uri": "https://localhost:8080/",
          "height": 415
        },
        "id": "aTnCUe32jIkO",
        "outputId": "a0f7ce94-7509-40f1-b1e6-a2b9026232d8"
      },
      "execution_count": 67,
      "outputs": [
        {
          "output_type": "stream",
          "name": "stdout",
          "text": [
            "numero de elementos: 1\n",
            "La lista no tiene más de dos elementos\n"
          ]
        },
        {
          "output_type": "error",
          "ename": "KeyboardInterrupt",
          "evalue": "ignored",
          "traceback": [
            "\u001b[0;31m---------------------------------------------------------------------------\u001b[0m",
            "\u001b[0;31mKeyboardInterrupt\u001b[0m                         Traceback (most recent call last)",
            "\u001b[0;32m<ipython-input-67-ff1cd6dfcc82>\u001b[0m in \u001b[0;36m<cell line: 8>\u001b[0;34m()\u001b[0m\n\u001b[1;32m      7\u001b[0m \u001b[0;34m\u001b[0m\u001b[0m\n\u001b[1;32m      8\u001b[0m \u001b[0;32mwhile\u001b[0m \u001b[0mne\u001b[0m \u001b[0;34m<=\u001b[0m \u001b[0;36m1\u001b[0m \u001b[0;34m:\u001b[0m\u001b[0;34m\u001b[0m\u001b[0;34m\u001b[0m\u001b[0m\n\u001b[0;32m----> 9\u001b[0;31m   \u001b[0mne\u001b[0m \u001b[0;34m=\u001b[0m \u001b[0mint\u001b[0m\u001b[0;34m(\u001b[0m\u001b[0minput\u001b[0m\u001b[0;34m(\u001b[0m\u001b[0;34m\"numero de elementos: \"\u001b[0m\u001b[0;34m)\u001b[0m\u001b[0;34m)\u001b[0m\u001b[0;34m\u001b[0m\u001b[0;34m\u001b[0m\u001b[0m\n\u001b[0m\u001b[1;32m     10\u001b[0m   \u001b[0mli\u001b[0m \u001b[0;34m=\u001b[0m \u001b[0mlist\u001b[0m\u001b[0;34m(\u001b[0m\u001b[0mrandom\u001b[0m\u001b[0;34m.\u001b[0m\u001b[0mrandint\u001b[0m\u001b[0;34m(\u001b[0m\u001b[0;36m0\u001b[0m\u001b[0;34m,\u001b[0m\u001b[0;36m100\u001b[0m\u001b[0;34m)\u001b[0m \u001b[0;32mfor\u001b[0m \u001b[0mi\u001b[0m \u001b[0;32min\u001b[0m \u001b[0mrange\u001b[0m\u001b[0;34m(\u001b[0m\u001b[0mne\u001b[0m\u001b[0;34m)\u001b[0m\u001b[0;34m)\u001b[0m\u001b[0;34m\u001b[0m\u001b[0;34m\u001b[0m\u001b[0m\n\u001b[1;32m     11\u001b[0m   \u001b[0mlista\u001b[0m \u001b[0;34m=\u001b[0m \u001b[0mlen\u001b[0m\u001b[0;34m(\u001b[0m\u001b[0mli\u001b[0m\u001b[0;34m)\u001b[0m\u001b[0;34m\u001b[0m\u001b[0;34m\u001b[0m\u001b[0m\n",
            "\u001b[0;32m/usr/local/lib/python3.10/dist-packages/ipykernel/kernelbase.py\u001b[0m in \u001b[0;36mraw_input\u001b[0;34m(self, prompt)\u001b[0m\n\u001b[1;32m    849\u001b[0m                 \u001b[0;34m\"raw_input was called, but this frontend does not support input requests.\"\u001b[0m\u001b[0;34m\u001b[0m\u001b[0;34m\u001b[0m\u001b[0m\n\u001b[1;32m    850\u001b[0m             )\n\u001b[0;32m--> 851\u001b[0;31m         return self._input_request(str(prompt),\n\u001b[0m\u001b[1;32m    852\u001b[0m             \u001b[0mself\u001b[0m\u001b[0;34m.\u001b[0m\u001b[0m_parent_ident\u001b[0m\u001b[0;34m,\u001b[0m\u001b[0;34m\u001b[0m\u001b[0;34m\u001b[0m\u001b[0m\n\u001b[1;32m    853\u001b[0m             \u001b[0mself\u001b[0m\u001b[0;34m.\u001b[0m\u001b[0m_parent_header\u001b[0m\u001b[0;34m,\u001b[0m\u001b[0;34m\u001b[0m\u001b[0;34m\u001b[0m\u001b[0m\n",
            "\u001b[0;32m/usr/local/lib/python3.10/dist-packages/ipykernel/kernelbase.py\u001b[0m in \u001b[0;36m_input_request\u001b[0;34m(self, prompt, ident, parent, password)\u001b[0m\n\u001b[1;32m    893\u001b[0m             \u001b[0;32mexcept\u001b[0m \u001b[0mKeyboardInterrupt\u001b[0m\u001b[0;34m:\u001b[0m\u001b[0;34m\u001b[0m\u001b[0;34m\u001b[0m\u001b[0m\n\u001b[1;32m    894\u001b[0m                 \u001b[0;31m# re-raise KeyboardInterrupt, to truncate traceback\u001b[0m\u001b[0;34m\u001b[0m\u001b[0;34m\u001b[0m\u001b[0m\n\u001b[0;32m--> 895\u001b[0;31m                 \u001b[0;32mraise\u001b[0m \u001b[0mKeyboardInterrupt\u001b[0m\u001b[0;34m(\u001b[0m\u001b[0;34m\"Interrupted by user\"\u001b[0m\u001b[0;34m)\u001b[0m \u001b[0;32mfrom\u001b[0m \u001b[0;32mNone\u001b[0m\u001b[0;34m\u001b[0m\u001b[0;34m\u001b[0m\u001b[0m\n\u001b[0m\u001b[1;32m    896\u001b[0m             \u001b[0;32mexcept\u001b[0m \u001b[0mException\u001b[0m \u001b[0;32mas\u001b[0m \u001b[0me\u001b[0m\u001b[0;34m:\u001b[0m\u001b[0;34m\u001b[0m\u001b[0;34m\u001b[0m\u001b[0m\n\u001b[1;32m    897\u001b[0m                 \u001b[0mself\u001b[0m\u001b[0;34m.\u001b[0m\u001b[0mlog\u001b[0m\u001b[0;34m.\u001b[0m\u001b[0mwarning\u001b[0m\u001b[0;34m(\u001b[0m\u001b[0;34m\"Invalid Message:\"\u001b[0m\u001b[0;34m,\u001b[0m \u001b[0mexc_info\u001b[0m\u001b[0;34m=\u001b[0m\u001b[0;32mTrue\u001b[0m\u001b[0;34m)\u001b[0m\u001b[0;34m\u001b[0m\u001b[0;34m\u001b[0m\u001b[0m\n",
            "\u001b[0;31mKeyboardInterrupt\u001b[0m: Interrupted by user"
          ]
        }
      ]
    }
  ]
}